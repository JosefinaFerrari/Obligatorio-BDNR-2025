{
 "cells": [
  {
   "cell_type": "markdown",
   "id": "12448a16",
   "metadata": {},
   "source": [
    "# Demo Apache Arrow"
   ]
  },
  {
   "cell_type": "code",
   "execution_count": 1,
   "id": "45855cd5",
   "metadata": {},
   "outputs": [],
   "source": [
    "import os\n",
    "import pandas as pd\n",
    "import pyarrow as pa\n",
    "import pyarrow.csv as csv  \n",
    "import pyarrow.compute as pc \n",
    "from io import StringIO \n",
    "import time\n",
    "import sys\n",
    "import random"
   ]
  },
  {
   "cell_type": "markdown",
   "id": "93cebe69",
   "metadata": {},
   "source": [
    "## Cargar desde csv "
   ]
  },
  {
   "cell_type": "code",
   "execution_count": 2,
   "id": "473a1d89-f613-47d6-9b3c-5387e72d958b",
   "metadata": {},
   "outputs": [],
   "source": [
    "DATA_DIR = \"../data\"\n",
    "CSV_FILE = os.path.join(DATA_DIR, \"learning_traces.csv\")\n",
    "ARROW_FILE = os.path.join(DATA_DIR, \"learning_traces.arrow\") "
   ]
  },
  {
   "cell_type": "markdown",
   "id": "eac773be",
   "metadata": {},
   "source": [
    "### En Pandas"
   ]
  },
  {
   "cell_type": "code",
   "execution_count": 3,
   "id": "839cde97",
   "metadata": {},
   "outputs": [],
   "source": [
    "start_time = time.time()"
   ]
  },
  {
   "cell_type": "code",
   "execution_count": 4,
   "id": "d30f6dde",
   "metadata": {},
   "outputs": [],
   "source": [
    "df_pandas = pd.read_csv(\n",
    "    CSV_FILE, \n",
    "    dtype={'user_id': 'category', 'learning_language': 'category', 'ui_language': 'category'}\n",
    ")"
   ]
  },
  {
   "cell_type": "code",
   "execution_count": 5,
   "id": "6ef73240",
   "metadata": {},
   "outputs": [
    {
     "name": "stdout",
     "output_type": "stream",
     "text": [
      "Datos cargados en Pandas (12854226 filas). Tiempo: 6.1576s\n"
     ]
    }
   ],
   "source": [
    "pandas_load_time = time.time() - start_time\n",
    "print(f\"Datos cargados en Pandas ({len(df_pandas)} filas). Tiempo: {pandas_load_time:.4f}s\")"
   ]
  },
  {
   "cell_type": "markdown",
   "id": "de5ca8a7",
   "metadata": {},
   "source": [
    "### En Arrow"
   ]
  },
  {
   "cell_type": "code",
   "execution_count": 6,
   "id": "4bad0e4d",
   "metadata": {},
   "outputs": [],
   "source": [
    "start_time = time.time()"
   ]
  },
  {
   "cell_type": "code",
   "execution_count": 7,
   "id": "f226b761",
   "metadata": {},
   "outputs": [],
   "source": [
    "tabla_arrow = csv.read_csv(CSV_FILE)"
   ]
  },
  {
   "cell_type": "code",
   "execution_count": 8,
   "id": "215e1412",
   "metadata": {},
   "outputs": [
    {
     "name": "stdout",
     "output_type": "stream",
     "text": [
      "Datos cargados en Arrow (12854226 filas). Tiempo: 0.8691s\n"
     ]
    }
   ],
   "source": [
    "arrow_load_time = time.time() - start_time\n",
    "print(f\"Datos cargados en Arrow ({tabla_arrow.num_rows} filas). Tiempo: {arrow_load_time:.4f}s\")\n"
   ]
  },
  {
   "cell_type": "markdown",
   "id": "ebd26c70",
   "metadata": {},
   "source": [
    "#### Schema de los datos"
   ]
  },
  {
   "cell_type": "code",
   "execution_count": 9,
   "id": "58c5d0bf",
   "metadata": {},
   "outputs": [
    {
     "name": "stdout",
     "output_type": "stream",
     "text": [
      "p_recall: double\n",
      "timestamp: int64\n",
      "delta: int64\n",
      "user_id: string\n",
      "learning_language: string\n",
      "ui_language: string\n",
      "lexeme_id: string\n",
      "lexeme_string: string\n",
      "history_seen: int64\n",
      "history_correct: int64\n",
      "session_seen: int64\n",
      "session_correct: int64\n"
     ]
    }
   ],
   "source": [
    "print(tabla_arrow.schema)"
   ]
  },
  {
   "cell_type": "markdown",
   "id": "25353272",
   "metadata": {},
   "source": [
    "#### Primeros 5 registros"
   ]
  },
  {
   "cell_type": "code",
   "execution_count": 10,
   "id": "efe26fce",
   "metadata": {},
   "outputs": [
    {
     "name": "stdout",
     "output_type": "stream",
     "text": [
      "   p_recall   timestamp     delta user_id learning_language ui_language  \\\n",
      "0       1.0  1362076081  27649635    u:FO                de          en   \n",
      "1       0.5  1362076081  27649635    u:FO                de          en   \n",
      "2       1.0  1362076081  27649635    u:FO                de          en   \n",
      "3       0.5  1362076081  27649635    u:FO                de          en   \n",
      "4       1.0  1362076081  27649635    u:FO                de          en   \n",
      "\n",
      "                          lexeme_id                     lexeme_string  \\\n",
      "0  76390c1350a8dac31186187e2fe1e178  lernt/lernen<vblex><pri><p3><sg>   \n",
      "1  7dfd7086f3671685e2cf1c1da72796d7     die/die<det><def><f><sg><nom>   \n",
      "2  35a54c25a2cda8127343f6a82e6f6b7d          mann/mann<n><m><sg><nom>   \n",
      "3  0cf63ffe3dda158bc3dbd55682b355ae          frau/frau<n><f><sg><nom>   \n",
      "4  84920990d78044db53c1b012f5bf9ab5    das/das<det><def><nt><sg><nom>   \n",
      "\n",
      "   history_seen  history_correct  session_seen  session_correct  \n",
      "0             6                4             2                2  \n",
      "1             4                4             2                1  \n",
      "2             5                4             1                1  \n",
      "3             6                5             2                1  \n",
      "4             4                4             1                1  \n"
     ]
    }
   ],
   "source": [
    "print(tabla_arrow.slice(0, 5).to_pandas())"
   ]
  },
  {
   "cell_type": "markdown",
   "id": "c71b749b",
   "metadata": {},
   "source": [
    "## Consumo de Memoria"
   ]
  },
  {
   "cell_type": "code",
   "execution_count": 11,
   "id": "d4a927b4",
   "metadata": {},
   "outputs": [],
   "source": [
    "def get_mem_size(obj):\n",
    "    if isinstance(obj, pd.DataFrame):\n",
    "        return obj.memory_usage(deep=True).sum() / (1024 * 1024)\n",
    "    elif isinstance(obj, pa.Table):\n",
    "        return obj.nbytes / (1024 * 1024)\n",
    "    return 0"
   ]
  },
  {
   "cell_type": "code",
   "execution_count": 12,
   "id": "d52bb4fa",
   "metadata": {},
   "outputs": [],
   "source": [
    "pandas_size = get_mem_size(df_pandas)\n",
    "arrow_size = get_mem_size(tabla_arrow)"
   ]
  },
  {
   "cell_type": "code",
   "execution_count": 13,
   "id": "939a1c18",
   "metadata": {},
   "outputs": [
    {
     "name": "stdout",
     "output_type": "stream",
     "text": [
      "Tamaño Pandas (Filas): 2872.69 MB\n",
      "Tamaño Arrow (Columnas): 1738.39 MB\n",
      "Ratio de Compresión Lógica (Pandas/Arrow): 1.65x\n"
     ]
    }
   ],
   "source": [
    "print(f\"Tamaño Pandas (Filas): {pandas_size:.2f} MB\")\n",
    "print(f\"Tamaño Arrow (Columnas): {arrow_size:.2f} MB\")\n",
    "print(f\"Ratio de Compresión Lógica (Pandas/Arrow): {pandas_size / arrow_size:.2f}x\")"
   ]
  },
  {
   "cell_type": "markdown",
   "id": "c12d42dc",
   "metadata": {},
   "source": [
    "## Consultas"
   ]
  },
  {
   "cell_type": "code",
   "execution_count": 14,
   "id": "38f95016",
   "metadata": {},
   "outputs": [],
   "source": [
    "NUM_ITERACIONES = 50"
   ]
  },
  {
   "cell_type": "markdown",
   "id": "dbbafdbe",
   "metadata": {},
   "source": [
    "### Arrow"
   ]
  },
  {
   "cell_type": "code",
   "execution_count": 15,
   "id": "244af19f",
   "metadata": {},
   "outputs": [],
   "source": [
    "start_arrow = time.time()\n",
    "for _ in range(NUM_ITERACIONES):\n",
    "    _ = tabla_arrow.group_by('learning_language').aggregate([('p_recall', 'mean')])\n",
    "arrow_query_time = (time.time() - start_arrow) / NUM_ITERACIONES"
   ]
  },
  {
   "cell_type": "code",
   "execution_count": 16,
   "id": "eb35a9f9",
   "metadata": {},
   "outputs": [
    {
     "name": "stdout",
     "output_type": "stream",
     "text": [
      "  Tiempo promedio Arrow (Columnas): 0.021147 segundos/ejecución\n"
     ]
    }
   ],
   "source": [
    "print(f\"  Tiempo promedio Arrow (Columnas): {arrow_query_time:.6f} segundos/ejecución\")"
   ]
  },
  {
   "cell_type": "markdown",
   "id": "b4318ad4",
   "metadata": {},
   "source": [
    "### Pandas"
   ]
  },
  {
   "cell_type": "code",
   "execution_count": 17,
   "id": "d00f1a08",
   "metadata": {},
   "outputs": [
    {
     "name": "stderr",
     "output_type": "stream",
     "text": [
      "/var/folders/2d/pfcrg1js5rj26t5sb_3913140000gn/T/ipykernel_2698/4207032938.py:3: FutureWarning: The default of observed=False is deprecated and will be changed to True in a future version of pandas. Pass observed=False to retain current behavior or observed=True to adopt the future default and silence this warning.\n",
      "  _ = df_pandas.groupby('learning_language')['p_recall'].mean()\n"
     ]
    }
   ],
   "source": [
    "start_pandas = time.time()\n",
    "for _ in range(NUM_ITERACIONES):\n",
    "    _ = df_pandas.groupby('learning_language')['p_recall'].mean()\n",
    "pandas_query_time = (time.time() - start_pandas) / NUM_ITERACIONES"
   ]
  },
  {
   "cell_type": "code",
   "execution_count": 18,
   "id": "9eb788cc",
   "metadata": {},
   "outputs": [
    {
     "name": "stdout",
     "output_type": "stream",
     "text": [
      "  Tiempo promedio Pandas (Filas): 0.081699 segundos/ejecución\n"
     ]
    }
   ],
   "source": [
    "print(f\"  Tiempo promedio Pandas (Filas): {pandas_query_time:.6f} segundos/ejecución\")"
   ]
  },
  {
   "cell_type": "code",
   "execution_count": 19,
   "id": "fc7f5f56",
   "metadata": {},
   "outputs": [
    {
     "name": "stdout",
     "output_type": "stream",
     "text": [
      "  Ratio de Rendimiento (Pandas/Arrow): 3.86x\n"
     ]
    }
   ],
   "source": [
    "print(f\"  Ratio de Rendimiento (Pandas/Arrow): {pandas_query_time / arrow_query_time:.2f}x\")"
   ]
  }
 ],
 "metadata": {
  "kernelspec": {
   "display_name": "Python (BDNR venv)",
   "language": "python",
   "name": "bdnr_venv"
  },
  "language_info": {
   "codemirror_mode": {
    "name": "ipython",
    "version": 3
   },
   "file_extension": ".py",
   "mimetype": "text/x-python",
   "name": "python",
   "nbconvert_exporter": "python",
   "pygments_lexer": "ipython3",
   "version": "3.9.6"
  }
 },
 "nbformat": 4,
 "nbformat_minor": 5
}
